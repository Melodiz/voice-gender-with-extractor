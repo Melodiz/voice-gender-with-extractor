{
 "cells": [
  {
   "cell_type": "code",
   "execution_count": 1,
   "metadata": {},
   "outputs": [],
   "source": [
    "import pandas as pd\n",
    "import numpy as np\n",
    "import seaborn as sns\n",
    "import matplotlib.pyplot as plt\n",
    "from sklearn.preprocessing import StandardScaler, MinMaxScaler, LabelEncoder\n",
    "from sklearn.model_selection import train_test_split, cross_val_score"
   ]
  },
  {
   "cell_type": "code",
   "execution_count": 2,
   "metadata": {},
   "outputs": [],
   "source": [
    "data = pd.read_csv('data/row.csv', sep=',')"
   ]
  },
  {
   "cell_type": "code",
   "execution_count": 3,
   "metadata": {},
   "outputs": [],
   "source": [
    "# Encode categorical features\n",
    "le = LabelEncoder()\n",
    "data['label'] = le.fit_transform(data['label'])"
   ]
  },
  {
   "cell_type": "markdown",
   "metadata": {},
   "source": [
    "### Remove higly correlated features"
   ]
  },
  {
   "cell_type": "code",
   "execution_count": 4,
   "metadata": {},
   "outputs": [
    {
     "name": "stdout",
     "output_type": "stream",
     "text": [
      "Removing feature 'median' with correlation value 0.9254453730463191 with feature 'meanfreq'\n",
      "Removing feature 'Q25' with correlation value 0.9114163463244435 with feature 'meanfreq'\n",
      "Removing feature 'centroid' with correlation value 1.0 with feature 'meanfreq'\n",
      "Removing feature 'kurt' with correlation value 0.9770204562201018 with feature 'skew'\n",
      "Removing feature 'dfrange' with correlation value 0.9998384146229784 with feature 'maxdom'\n"
     ]
    }
   ],
   "source": [
    "# Find pairs of highly correlated features and their correlation values\n",
    "correlation_matrix = data.corr()\n",
    "threshold = 0.9  # Adjust this threshold as needed to remove highly correlated features\n",
    "\n",
    "high_corr_pairs = [(col1, col2, correlation_matrix.loc[col1, col2]) for col1 in correlation_matrix.columns for col2 in correlation_matrix.columns \n",
    "                   if col1 != col2 and abs(correlation_matrix.loc[col1, col2]) > threshold]\n",
    "\n",
    "# Create a set to hold the columns to drop\n",
    "cols_to_drop = set()\n",
    "for col1, col2, corr_value in high_corr_pairs:\n",
    "    if col1 not in cols_to_drop and col2 not in cols_to_drop:\n",
    "        cols_to_drop.add(col2)\n",
    "        print(f\"Removing feature '{col2}' with correlation value {corr_value} with feature '{col1}'\")\n",
    "\n",
    "# Drop the highly correlated features\n",
    "data = data.drop(columns=cols_to_drop)"
   ]
  },
  {
   "cell_type": "markdown",
   "metadata": {},
   "source": [
    "### Remove outliers"
   ]
  },
  {
   "cell_type": "code",
   "execution_count": 5,
   "metadata": {},
   "outputs": [],
   "source": [
    "columns_with_outliers = ['maxfun', 'mindom', 'skew']\n",
    "# data['skew'] = np.log(data['skew'])\n",
    "mindom_mean = data['mindom'].median()\n",
    "skew_mean = data['skew'].median()\n",
    "minfun_mean = data['minfun'].median()\n",
    "maxfun_mean = data['maxfun'].median()\n",
    "data['skew'] = data['skew'].apply(lambda x: x if x < 6 else skew_mean)\n",
    "data['mindom'] = data['mindom'].apply(lambda x: x if x <= 0.075 else mindom_mean)\n",
    "data['minfun'] = data['minfun'].apply(lambda x: x if x <= 0.075 else minfun_mean)\n",
    "data['maxfun'] = data['maxfun'].apply(lambda x: x if x >= 0.2 else maxfun_mean)"
   ]
  },
  {
   "cell_type": "markdown",
   "metadata": {},
   "source": [
    "### Feature Scaling"
   ]
  },
  {
   "cell_type": "code",
   "execution_count": 6,
   "metadata": {},
   "outputs": [],
   "source": [
    "scaler = MinMaxScaler()\n",
    "X = data.drop(columns=['label'])\n",
    "y = data['label']\n",
    "X = scaler.fit_transform(X)"
   ]
  },
  {
   "cell_type": "code",
   "execution_count": 7,
   "metadata": {},
   "outputs": [],
   "source": [
    "data.to_csv('data/voice.csv', index=False)"
   ]
  }
 ],
 "metadata": {
  "kernelspec": {
   "display_name": "env",
   "language": "python",
   "name": "python3"
  },
  "language_info": {
   "codemirror_mode": {
    "name": "ipython",
    "version": 3
   },
   "file_extension": ".py",
   "mimetype": "text/x-python",
   "name": "python",
   "nbconvert_exporter": "python",
   "pygments_lexer": "ipython3",
   "version": "3.12.3"
  }
 },
 "nbformat": 4,
 "nbformat_minor": 2
}
